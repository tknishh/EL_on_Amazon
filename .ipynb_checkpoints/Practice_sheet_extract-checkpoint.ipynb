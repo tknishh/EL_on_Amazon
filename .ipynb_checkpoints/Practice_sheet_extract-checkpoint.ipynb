{
 "cells": [
  {
   "cell_type": "code",
   "execution_count": 2,
   "id": "f7cb842c",
   "metadata": {},
   "outputs": [
    {
     "name": "stderr",
     "output_type": "stream",
     "text": [
      "C:\\Users\\Tedd\\AppData\\Local\\Programs\\Python\\Python310\\lib\\site-packages\\requests\\__init__.py:102: RequestsDependencyWarning: urllib3 (1.26.8) or chardet (5.0.0)/charset_normalizer (2.0.10) doesn't match a supported version!\n",
      "  warnings.warn(\"urllib3 ({}) or chardet ({})/charset_normalizer ({}) doesn't match a supported \"\n"
     ]
    }
   ],
   "source": [
    "from bs4 import BeautifulSoup\n",
    "import requests\n",
    "import pandas as pd"
   ]
  },
  {
   "cell_type": "code",
   "execution_count": 3,
   "id": "23d6ff56",
   "metadata": {},
   "outputs": [],
   "source": [
    "URL = \"https://www.amazon.in/s?k=xbox&ref=nb_sb_noss_2\""
   ]
  },
  {
   "cell_type": "code",
   "execution_count": 4,
   "id": "e2a6fe82",
   "metadata": {},
   "outputs": [],
   "source": [
    "# headers for requests\n",
    "HEADERS = ({'User-Agent':'Mozilla/5.0 (Windows NT 10.0; Win64; x64) AppleWebKit/537.36 (KHTML, like Gecko) Chrome/107.0.0.0 Safari/537.36',\"Accept-Language\":'en-US,en;q=0.5'})"
   ]
  },
  {
   "cell_type": "code",
   "execution_count": 5,
   "id": "1dd5adf5",
   "metadata": {},
   "outputs": [],
   "source": [
    "# HTTP Request\n",
    "webpage = requests.get(URL, headers=HEADERS)"
   ]
  },
  {
   "cell_type": "code",
   "execution_count": 8,
   "id": "655589c7",
   "metadata": {},
   "outputs": [
    {
     "data": {
      "text/plain": [
       "bytes"
      ]
     },
     "execution_count": 8,
     "metadata": {},
     "output_type": "execute_result"
    }
   ],
   "source": [
    "type(webpage.content)"
   ]
  },
  {
   "cell_type": "code",
   "execution_count": 9,
   "id": "36c250dd",
   "metadata": {},
   "outputs": [],
   "source": [
    "# Soup object containing all data\n",
    "soup = BeautifulSoup(webpage.content, \"html.parser\")"
   ]
  },
  {
   "cell_type": "code",
   "execution_count": 12,
   "id": "093772e4",
   "metadata": {},
   "outputs": [
    {
     "data": {
      "text/plain": [
       "bs4.BeautifulSoup"
      ]
     },
     "execution_count": 12,
     "metadata": {},
     "output_type": "execute_result"
    }
   ],
   "source": [
    "type(soup)"
   ]
  },
  {
   "cell_type": "code",
   "execution_count": 14,
   "id": "4164fa61",
   "metadata": {},
   "outputs": [],
   "source": [
    "# soup # run to view content in html format"
   ]
  },
  {
   "cell_type": "code",
   "execution_count": 15,
   "id": "e221d6ae",
   "metadata": {},
   "outputs": [],
   "source": [
    "# Fetch links as list of Tag Objects\n",
    "links = soup.find_all(\"a\", attrs={'class':'a-link-normal s-underline-text s-underline-link-text s-link-style a-text-normal'})"
   ]
  },
  {
   "cell_type": "code",
   "execution_count": 16,
   "id": "4d32a454",
   "metadata": {
    "collapsed": true
   },
   "outputs": [
    {
     "data": {
      "text/plain": [
       "[<a class=\"a-link-normal s-underline-text s-underline-link-text s-link-style a-text-normal\" href=\"/Xbox-Series-S/dp/B08J89D6BW/ref=sr_1_1?keywords=xbox&amp;qid=1668436272&amp;qu=eyJxc2MiOiI0LjQ1IiwicXNhIjoiMy4zNSIsInFzcCI6IjMuNTYifQ%3D%3D&amp;sr=8-1\" target=\"_blank\"><span class=\"a-size-medium a-color-base a-text-normal\">Xbox Series S</span> </a>,\n",
       " <a class=\"a-link-normal s-underline-text s-underline-link-text s-link-style a-text-normal\" href=\"/Xbox-Series-X/dp/B08J7QX1N1/ref=sr_1_2?keywords=xbox&amp;qid=1668436272&amp;qu=eyJxc2MiOiI0LjQ1IiwicXNhIjoiMy4zNSIsInFzcCI6IjMuNTYifQ%3D%3D&amp;sr=8-2\" target=\"_blank\"><span class=\"a-size-medium a-color-base a-text-normal\">Xbox Series X</span> </a>,\n",
       " <a class=\"a-link-normal s-underline-text s-underline-link-text s-link-style a-text-normal\" href=\"/Renewed-Xbox-Series-S/dp/B096XB8DB3/ref=sr_1_3?keywords=xbox&amp;qid=1668436272&amp;qu=eyJxc2MiOiI0LjQ1IiwicXNhIjoiMy4zNSIsInFzcCI6IjMuNTYifQ%3D%3D&amp;sr=8-3\" target=\"_blank\"><span class=\"a-size-medium a-color-base a-text-normal\">(Renewed) Xbox Series S</span> </a>,\n",
       " <a class=\"a-link-normal s-underline-text s-underline-link-text s-link-style a-text-normal\" href=\"/Microsoft-Wireless-Controller-USB-C-Cable/dp/B08TRQY8K4/ref=sr_1_4?keywords=xbox&amp;qid=1668436272&amp;qu=eyJxc2MiOiI0LjQ1IiwicXNhIjoiMy4zNSIsInFzcCI6IjMuNTYifQ%3D%3D&amp;sr=8-4\" target=\"_blank\"><span class=\"a-size-medium a-color-base a-text-normal\">Microsoft Xbox Series X/S Wireless Controller + USB-C Cable</span> </a>,\n",
       " <a class=\"a-link-normal s-underline-text s-underline-link-text s-link-style a-text-normal\" href=\"/Grand-Theft-Premium-Xbox-One/dp/B07D39L55D/ref=sr_1_5?keywords=xbox&amp;qid=1668436272&amp;qu=eyJxc2MiOiI0LjQ1IiwicXNhIjoiMy4zNSIsInFzcCI6IjMuNTYifQ%3D%3D&amp;sr=8-5\" target=\"_blank\"><span class=\"a-size-medium a-color-base a-text-normal\">Grand Theft V - Premium Edition (Xbox One)</span> </a>,\n",
       " <a class=\"a-link-normal s-underline-text s-underline-link-text s-link-style a-text-normal\" href=\"/PowerA-Spectra-Enhanced-Wired-Controller/dp/B07SBX48TY/ref=sr_1_6?keywords=xbox&amp;qid=1668436272&amp;qu=eyJxc2MiOiI0LjQ1IiwicXNhIjoiMy4zNSIsInFzcCI6IjMuNTYifQ%3D%3D&amp;sr=8-6\" target=\"_blank\"><span class=\"a-size-medium a-color-base a-text-normal\">APower Spectra Enhanced Wired Controller for Xbox One</span> </a>,\n",
       " <a class=\"a-link-normal s-underline-text s-underline-link-text s-link-style a-text-normal\" href=\"/Hogwarts-Legacy-Standard-Xbox-X/dp/B0BBV3CYW6/ref=sr_1_7?keywords=xbox&amp;qid=1668436272&amp;qu=eyJxc2MiOiI0LjQ1IiwicXNhIjoiMy4zNSIsInFzcCI6IjMuNTYifQ%3D%3D&amp;sr=8-7\" target=\"_blank\"><span class=\"a-size-medium a-color-base a-text-normal\">Hogwarts Legacy | Standard Edition| Xbox Series X</span> </a>,\n",
       " <a class=\"a-link-normal s-underline-text s-underline-link-text s-link-style a-text-normal\" href=\"/Call-Duty-Modern-Warfare-Cross/dp/B0BJF29WBC/ref=sr_1_8?keywords=xbox&amp;qid=1668436272&amp;qu=eyJxc2MiOiI0LjQ1IiwicXNhIjoiMy4zNSIsInFzcCI6IjMuNTYifQ%3D%3D&amp;sr=8-8\" target=\"_blank\"><span class=\"a-size-medium a-color-base a-text-normal\">Call Of Duty : Modern Warfare II | Cross Gen Edition | Xbox Series X / One</span> </a>,\n",
       " <a class=\"a-link-normal s-underline-text s-underline-link-text s-link-style a-text-normal\" href=\"/Renewed-One-Devil-Special-Bundle/dp/B08H51Z241/ref=sr_1_9?keywords=xbox&amp;qid=1668436272&amp;qu=eyJxc2MiOiI0LjQ1IiwicXNhIjoiMy4zNSIsInFzcCI6IjMuNTYifQ%3D%3D&amp;sr=8-9\" target=\"_blank\"><span class=\"a-size-medium a-color-base a-text-normal\">(Renewed) Microsoft Xbox One S Devil May Cry 5 Special Edition Bundle, 1Tb (Gradient Purple)</span> </a>,\n",
       " <a class=\"a-link-normal s-underline-text s-underline-link-text s-link-style a-text-normal\" href=\"/Cricket-22-International-Edition-Xbox/dp/B09HXSFZ1N/ref=sr_1_10?keywords=xbox&amp;qid=1668436272&amp;qu=eyJxc2MiOiI0LjQ1IiwicXNhIjoiMy4zNSIsInFzcCI6IjMuNTYifQ%3D%3D&amp;sr=8-10\" target=\"_blank\"><span class=\"a-size-medium a-color-base a-text-normal\">Cricket 22 International Edition (Xbox)</span> </a>,\n",
       " <a class=\"a-link-normal s-underline-text s-underline-link-text s-link-style a-text-normal\" href=\"/Xbox-Game-Pass-Ultimate-Membership/dp/B09RB2SZ43/ref=sr_1_11?keywords=xbox&amp;qid=1668436272&amp;qu=eyJxc2MiOiI0LjQ1IiwicXNhIjoiMy4zNSIsInFzcCI6IjMuNTYifQ%3D%3D&amp;sr=8-11\" target=\"_blank\"><span class=\"a-size-medium a-color-base a-text-normal\">Xbox Game Pass Ultimate: 1 Month – Xbox Series X|S – Xbox One – Windows 10|11</span> </a>,\n",
       " <a class=\"a-link-normal s-underline-text s-underline-link-text s-link-style a-text-normal\" href=\"/Just-Dance-2018-Xbox-One/dp/B072JSM93G/ref=sr_1_12?keywords=xbox&amp;qid=1668436272&amp;qu=eyJxc2MiOiI0LjQ1IiwicXNhIjoiMy4zNSIsInFzcCI6IjMuNTYifQ%3D%3D&amp;sr=8-12\" target=\"_blank\"><span class=\"a-size-medium a-color-base a-text-normal\">Just Dance 2018 - Xbox One</span> </a>,\n",
       " <a class=\"a-link-normal s-underline-text s-underline-link-text s-link-style a-text-normal\" href=\"/Microsoft-6AA-00001-Dead-Rising4-Xbox/dp/B01GW3LR8M/ref=sr_1_13?keywords=xbox&amp;qid=1668436272&amp;qu=eyJxc2MiOiI0LjQ1IiwicXNhIjoiMy4zNSIsInFzcCI6IjMuNTYifQ%3D%3D&amp;sr=8-13\" target=\"_blank\"><span class=\"a-size-medium a-color-base a-text-normal\">Dead Rising4 Xbox One</span> </a>,\n",
       " <a class=\"a-link-normal s-underline-text s-underline-link-text s-link-style a-text-normal\" href=\"/Xbox-Game-Pass-Ultimate-Membership/dp/B09TK3KLCQ/ref=sr_1_14?keywords=xbox&amp;qid=1668436272&amp;qu=eyJxc2MiOiI0LjQ1IiwicXNhIjoiMy4zNSIsInFzcCI6IjMuNTYifQ%3D%3D&amp;sr=8-14\" target=\"_blank\"><span class=\"a-size-medium a-color-base a-text-normal\">Xbox Game Pass Ultimate: 1 Month Membership (Gift Card Code Only)</span> </a>,\n",
       " <a class=\"a-link-normal s-underline-text s-underline-link-text s-link-style a-text-normal\" href=\"/Xbox-Wireless-Controller-Robot-White/dp/B08K3GW17S/ref=sr_1_15?keywords=xbox&amp;qid=1668436272&amp;qu=eyJxc2MiOiI0LjQ1IiwicXNhIjoiMy4zNSIsInFzcCI6IjMuNTYifQ%3D%3D&amp;sr=8-15\" target=\"_blank\"><span class=\"a-size-medium a-color-base a-text-normal\">Microsoft Xbox X/S Wireless Controller Robot White</span> </a>,\n",
       " <a class=\"a-link-normal s-underline-text s-underline-link-text s-link-style a-text-normal\" href=\"/TCOS-TECH-Controller-Mobile-Bracket/dp/B08K8YDBWK/ref=sr_1_16?keywords=xbox&amp;qid=1668436272&amp;qu=eyJxc2MiOiI0LjQ1IiwicXNhIjoiMy4zNSIsInFzcCI6IjMuNTYifQ%3D%3D&amp;sr=8-16\" target=\"_blank\"><span class=\"a-size-medium a-color-base a-text-normal\">TCOS TECH Wireless Controller compatible with Xbox One/One S/One X/Xbox One Elite/Windows PC, Wireless Gamepad Remote Controller with 2.4GHZ Wireless USB Receiver Adapter, PC Game Controller</span> </a>]"
      ]
     },
     "execution_count": 16,
     "metadata": {},
     "output_type": "execute_result"
    }
   ],
   "source": [
    "links"
   ]
  },
  {
   "cell_type": "code",
   "execution_count": 21,
   "id": "7e27a93b",
   "metadata": {},
   "outputs": [],
   "source": [
    "link = links[0].get('href')"
   ]
  },
  {
   "cell_type": "code",
   "execution_count": 25,
   "id": "dca57eb2",
   "metadata": {},
   "outputs": [],
   "source": [
    "product_list = \"https://amazon.in\" + link"
   ]
  },
  {
   "cell_type": "code",
   "execution_count": 26,
   "id": "683ac703",
   "metadata": {},
   "outputs": [
    {
     "data": {
      "text/plain": [
       "'https://amazon.in/Xbox-Series-S/dp/B08J89D6BW/ref=sr_1_1?keywords=xbox&qid=1668436272&qu=eyJxc2MiOiI0LjQ1IiwicXNhIjoiMy4zNSIsInFzcCI6IjMuNTYifQ%3D%3D&sr=8-1'"
      ]
     },
     "execution_count": 26,
     "metadata": {},
     "output_type": "execute_result"
    }
   ],
   "source": [
    "product_list"
   ]
  },
  {
   "cell_type": "code",
   "execution_count": 27,
   "id": "bb1fef76",
   "metadata": {},
   "outputs": [],
   "source": [
    "new_webpage = requests.get(product_list, headers=HEADERS)"
   ]
  },
  {
   "cell_type": "code",
   "execution_count": 28,
   "id": "8a6029be",
   "metadata": {},
   "outputs": [
    {
     "data": {
      "text/plain": [
       "<Response [200]>"
      ]
     },
     "execution_count": 28,
     "metadata": {},
     "output_type": "execute_result"
    }
   ],
   "source": [
    "new_webpage"
   ]
  },
  {
   "cell_type": "code",
   "execution_count": 29,
   "id": "d4d59739",
   "metadata": {},
   "outputs": [],
   "source": [
    "# Soup object containing all data\n",
    "new_soup = BeautifulSoup(new_webpage.content, \"html.parser\")"
   ]
  },
  {
   "cell_type": "code",
   "execution_count": 31,
   "id": "e64208e5",
   "metadata": {},
   "outputs": [],
   "source": [
    "# new_soup"
   ]
  },
  {
   "cell_type": "code",
   "execution_count": 36,
   "id": "d3372913",
   "metadata": {},
   "outputs": [
    {
     "data": {
      "text/plain": [
       "'Xbox Series S'"
      ]
     },
     "execution_count": 36,
     "metadata": {},
     "output_type": "execute_result"
    }
   ],
   "source": [
    "new_soup.find(\"span\", attrs={\"id\":\"productTitle\"}).text.strip()"
   ]
  },
  {
   "cell_type": "code",
   "execution_count": 38,
   "id": "b5102ff4",
   "metadata": {},
   "outputs": [
    {
     "data": {
      "text/plain": [
       "'₹31,900.00'"
      ]
     },
     "execution_count": 38,
     "metadata": {},
     "output_type": "execute_result"
    }
   ],
   "source": [
    "new_soup.find(\"span\", attrs={\"class\":\"a-price aok-align-center reinventPricePriceToPayMargin priceToPay\"}).find('span', attrs={\"class\":\"a-offscreen\"}).text"
   ]
  },
  {
   "cell_type": "code",
   "execution_count": 39,
   "id": "6df9e78c",
   "metadata": {},
   "outputs": [
    {
     "data": {
      "text/plain": [
       "'4.6 out of 5 stars'"
      ]
     },
     "execution_count": 39,
     "metadata": {},
     "output_type": "execute_result"
    }
   ],
   "source": [
    "new_soup.find(\"span\", attrs={\"class\":\"a-icon-alt\"}).text"
   ]
  },
  {
   "cell_type": "code",
   "execution_count": null,
   "id": "b4fdc1e5",
   "metadata": {},
   "outputs": [],
   "source": []
  }
 ],
 "metadata": {
  "kernelspec": {
   "display_name": "Python 3 (ipykernel)",
   "language": "python",
   "name": "python3"
  },
  "language_info": {
   "codemirror_mode": {
    "name": "ipython",
    "version": 3
   },
   "file_extension": ".py",
   "mimetype": "text/x-python",
   "name": "python",
   "nbconvert_exporter": "python",
   "pygments_lexer": "ipython3",
   "version": "3.10.5"
  }
 },
 "nbformat": 4,
 "nbformat_minor": 5
}
