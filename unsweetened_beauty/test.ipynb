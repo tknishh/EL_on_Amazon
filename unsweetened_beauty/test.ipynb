{
 "cells": [
  {
   "cell_type": "code",
   "execution_count": 2,
   "metadata": {},
   "outputs": [
    {
     "ename": "AttributeError",
     "evalue": "'NoneType' object has no attribute 'text'",
     "output_type": "error",
     "traceback": [
      "\u001b[1;31m---------------------------------------------------------------------------\u001b[0m",
      "\u001b[1;31mAttributeError\u001b[0m                            Traceback (most recent call last)",
      "Cell \u001b[1;32mIn[2], line 21\u001b[0m\n\u001b[0;32m     18\u001b[0m \u001b[39m# Iterate through each product card and extract the desired information\u001b[39;00m\n\u001b[0;32m     19\u001b[0m \u001b[39mfor\u001b[39;00m card \u001b[39min\u001b[39;00m product_cards:\n\u001b[0;32m     20\u001b[0m     \u001b[39m# Product name\u001b[39;00m\n\u001b[1;32m---> 21\u001b[0m     product_name \u001b[39m=\u001b[39m card\u001b[39m.\u001b[39;49mfind(\u001b[39m\"\u001b[39;49m\u001b[39ma\u001b[39;49m\u001b[39m\"\u001b[39;49m, class_\u001b[39m=\u001b[39;49m\u001b[39m\"\u001b[39;49m\u001b[39m_1AtVbE col-12-12\u001b[39;49m\u001b[39m\"\u001b[39;49m)\u001b[39m.\u001b[39;49mtext\u001b[39m.\u001b[39mstrip()\n\u001b[0;32m     23\u001b[0m     \u001b[39m# Product description\u001b[39;00m\n\u001b[0;32m     24\u001b[0m     product_description \u001b[39m=\u001b[39m card\u001b[39m.\u001b[39mfind(\u001b[39m\"\u001b[39m\u001b[39ma\u001b[39m\u001b[39m\"\u001b[39m, class_\u001b[39m=\u001b[39m\u001b[39m\"\u001b[39m\u001b[39mIRpwTa\u001b[39m\u001b[39m\"\u001b[39m)[\u001b[39m\"\u001b[39m\u001b[39mtitle\u001b[39m\u001b[39m\"\u001b[39m]\n",
      "\u001b[1;31mAttributeError\u001b[0m: 'NoneType' object has no attribute 'text'"
     ]
    }
   ],
   "source": [
    "import requests\n",
    "from bs4 import BeautifulSoup\n",
    "\n",
    "# Define the URL to scrape\n",
    "url = \"https://www.flipkart.com/search?q=beauty%20products&otracker=search&otracker1=search&marketplace=FLIPKART&as-show=on&as=off\"\n",
    "\n",
    "# Send an HTTP GET request to the URL\n",
    "response = requests.get(url)\n",
    "\n",
    "# Check if the request was successful\n",
    "if response.status_code == 200:\n",
    "    # Parse the HTML content of the page\n",
    "    soup = BeautifulSoup(response.content, \"html.parser\")\n",
    "    \n",
    "    # Find all the product cards on the page\n",
    "    product_cards = soup.find_all(\"div\", class_=\"_1AtVbE\")\n",
    "    \n",
    "    # Iterate through each product card and extract the desired information\n",
    "    for card in product_cards:\n",
    "        # Product name\n",
    "        product_name = card.find(\"a\", class_=\"_1AtVbE col-12-12\").text.strip()\n",
    "        \n",
    "        # Product description\n",
    "        product_description = card.find(\"a\", class_=\"IRpwTa\")[\"title\"]\n",
    "        \n",
    "        # Brand name\n",
    "        brand_name = card.find(\"div\", class_=\"_2B_pmu\").text.strip()\n",
    "        \n",
    "        # Quantity (grams / ml)\n",
    "        quantity = card.find(\"li\", class_=\"rgWa7D\").text.strip()\n",
    "        \n",
    "        # Rating\n",
    "        rating = card.find(\"div\", class_=\"_3LWZlK\").text.strip()\n",
    "        \n",
    "        # Number of Ratings\n",
    "        num_ratings = card.find(\"span\", class_=\"_34Yjv1\").text.strip()\n",
    "        \n",
    "        # MRP (Maximum Retail Price)\n",
    "        mrp = card.find(\"div\", class_=\"_3I9_wc\").text.strip()\n",
    "        \n",
    "        # Selling price\n",
    "        selling_price = card.find(\"div\", class_=\"_30jeq3\").text.strip()\n",
    "        \n",
    "        # Product URL\n",
    "        product_url = \"https://www.flipkart.com\" + card.find(\"a\", class_=\"IRpwTa\")[\"href\"]\n",
    "        \n",
    "        # Print the extracted data for each product\n",
    "        print(\"Product Name:\", product_name)\n",
    "        print(\"Product Description:\", product_description)\n",
    "        print(\"Brand Name:\", brand_name)\n",
    "        print(\"Quantity (grams / ml):\", quantity)\n",
    "        print(\"Rating:\", rating)\n",
    "        print(\"Number of Ratings:\", num_ratings)\n",
    "        print(\"MRP:\", mrp)\n",
    "        print(\"Selling Price:\", selling_price)\n",
    "        print(\"Product URL:\", product_url)\n",
    "        print(\"\\n\")\n",
    "else:\n",
    "    print(\"Failed to retrieve the webpage. Status code:\", response.status_code)\n"
   ]
  },
  {
   "cell_type": "code",
   "execution_count": null,
   "metadata": {},
   "outputs": [],
   "source": []
  },
  {
   "cell_type": "code",
   "execution_count": null,
   "metadata": {},
   "outputs": [],
   "source": []
  }
 ],
 "metadata": {
  "kernelspec": {
   "display_name": "Python 3",
   "language": "python",
   "name": "python3"
  },
  "language_info": {
   "codemirror_mode": {
    "name": "ipython",
    "version": 3
   },
   "file_extension": ".py",
   "mimetype": "text/x-python",
   "name": "python",
   "nbconvert_exporter": "python",
   "pygments_lexer": "ipython3",
   "version": "3.9.13"
  },
  "orig_nbformat": 4
 },
 "nbformat": 4,
 "nbformat_minor": 2
}
