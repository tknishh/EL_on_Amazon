{
 "cells": [
  {
   "cell_type": "code",
   "execution_count": 7,
   "metadata": {},
   "outputs": [
    {
     "name": "stdout",
     "output_type": "stream",
     "text": [
      "Failed to retrieve the webpage. Status code: 503\n"
     ]
    }
   ],
   "source": [
    "import requests\n",
    "from bs4 import BeautifulSoup\n",
    "\n",
    "# Define the URL\n",
    "url = \"https://www.amazon.in/s?k=beauty+products&crid=IT833ADF9GV2&sprefix=beauty+product%2Caps%2C269&ref=nb_sb_noss_1\"\n",
    "\n",
    "# Send an HTTP GET request to the URL\n",
    "response = requests.get(url)\n",
    "\n",
    "# Check if the request was successful\n",
    "if response.status_code == 200:\n",
    "    soup = BeautifulSoup(response.text, 'html.parser')\n",
    "    \n",
    "    # Find all the product containers on the page\n",
    "    product_containers = soup.find_all('div', {'data-asin': True})\n",
    "    \n",
    "    # Loop through each product container and extract the desired fields\n",
    "    for product in product_containers:\n",
    "        product_name = product.find('span', {'class': 'a-text-normal'}).text.strip()\n",
    "        product_description = product.find('span', {'class': 'a-size-base-plus'}).text.strip()\n",
    "        brand_name = product.find('span', {'class': 'a-size-base'}).text.strip()\n",
    "        quantity = product.find('span', {'class': 'a-size-base'}).text.strip()  # Adjust this selector\n",
    "        rating = product.find('span', {'class': 'a-icon-alt'}).text.strip().split(' ')[0]\n",
    "        num_ratings = product.find('span', {'class': 'a-size-base'}).text.strip()  # Adjust this selector\n",
    "        mrp = product.find('span', {'class': 'a-price-text'}).text.strip()\n",
    "        selling_price = product.find('span', {'class': 'a-offscreen'}).text.strip()\n",
    "        product_url = f\"https://www.amazon.in{product.find('a', {'class': 'a-link-normal'})['href']}\"\n",
    "        \n",
    "        # Print or store the extracted data as needed\n",
    "        print(\"Product Name:\", product_name)\n",
    "        print(\"Product Description:\", product_description)\n",
    "        print(\"Brand Name:\", brand_name)\n",
    "        print(\"Quantity:\", quantity)\n",
    "        print(\"Rating:\", rating)\n",
    "        print(\"Number of Ratings:\", num_ratings)\n",
    "        print(\"MRP:\", mrp)\n",
    "        print(\"Selling Price:\", selling_price)\n",
    "        print(\"Product URL:\", product_url)\n",
    "        print(\"Affiliate Link: <YOUR_AFFILIATE_LINK>\")\n",
    "        \n",
    "        # You can add code to extract other fields as well using a similar approach\n",
    "        # Remember to adjust the selectors accordingly\n",
    "        \n",
    "        print(\"\\n\")  # Separate each product's information\n",
    "\n",
    "else:\n",
    "    print(\"Failed to retrieve the webpage. Status code:\", response.status_code)\n"
   ]
  },
  {
   "cell_type": "code",
   "execution_count": null,
   "metadata": {},
   "outputs": [],
   "source": []
  },
  {
   "cell_type": "code",
   "execution_count": null,
   "metadata": {},
   "outputs": [],
   "source": []
  }
 ],
 "metadata": {
  "kernelspec": {
   "display_name": "Python 3",
   "language": "python",
   "name": "python3"
  },
  "language_info": {
   "codemirror_mode": {
    "name": "ipython",
    "version": 3
   },
   "file_extension": ".py",
   "mimetype": "text/x-python",
   "name": "python",
   "nbconvert_exporter": "python",
   "pygments_lexer": "ipython3",
   "version": "3.9.13"
  },
  "orig_nbformat": 4
 },
 "nbformat": 4,
 "nbformat_minor": 2
}
